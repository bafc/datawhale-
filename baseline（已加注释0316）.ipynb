{
 "cells": [
  {
   "cell_type": "markdown",
   "metadata": {},
   "source": [
    "# 导入第三方包"
   ]
  },
  {
   "cell_type": "code",
   "execution_count": 1,
   "metadata": {
    "ExecuteTime": {
     "end_time": "2021-03-15T00:52:16.629173Z",
     "start_time": "2021-03-15T00:52:16.621194Z"
    },
    "collapsed": true
   },
   "outputs": [],
   "source": [
    "import os#没用\n",
    "import gc#没用\n",
    "import math #没用\n",
    "\n",
    "import pandas as pd\n",
    "import numpy as np\n",
    "\n",
    "import lightgbm as lgb\n",
    "import xgboost as xgb #没有用\n",
    "\n",
    "\n",
    "from sklearn.preprocessing import MinMaxScaler\n",
    "\n",
    "\n",
    "from sklearn.model_selection import StratifiedKFold, KFold\n",
    "from sklearn.metrics import log_loss #没有用\n",
    "from sklearn.model_selection import train_test_split #没有用\n",
    "from sklearn.preprocessing import OneHotEncoder\n",
    "\n",
    "import matplotlib.pyplot as plt #没有用\n",
    "import time \n",
    "import warnings\n",
    "warnings.filterwarnings('ignore')"
   ]
  },
  {
   "cell_type": "markdown",
   "metadata": {},
   "source": [
    "# 读取数据"
   ]
  },
  {
   "cell_type": "code",
   "execution_count": 34,
   "metadata": {
    "ExecuteTime": {
     "end_time": "2021-03-15T00:52:22.085956Z",
     "start_time": "2021-03-15T00:52:19.571864Z"
    }
   },
   "outputs": [],
   "source": [
    "train = pd.read_csv('train.csv') #读取训练集\n",
    "test=pd.read_csv('testA.csv')#读取测试集\n"
   ]
  },
  {
   "cell_type": "markdown",
   "metadata": {},
   "source": [
    "# 数据预处理"
   ]
  },
  {
   "cell_type": "code",
   "execution_count": 4,
   "metadata": {
    "ExecuteTime": {
     "end_time": "2021-03-15T00:53:20.837171Z",
     "start_time": "2021-03-15T00:53:20.824203Z"
    },
    "collapsed": true
   },
   "outputs": [],
   "source": [
    "#降低数字精度，压缩文件\n",
    "def reduce_mem_usage(df):\n",
    "    start_mem = df.memory_usage().sum() / 1024**2 \n",
    "    print('Memory usage of dataframe is {:.2f} MB'.format(start_mem))\n",
    "    \n",
    "    for col in df.columns:\n",
    "        col_type = df[col].dtype\n",
    "        \n",
    "        if col_type != object:\n",
    "            c_min = df[col].min()\n",
    "            c_max = df[col].max()\n",
    "            if str(col_type)[:3] == 'int':\n",
    "                if c_min > np.iinfo(np.int8).min and c_max < np.iinfo(np.int8).max:\n",
    "                    df[col] = df[col].astype(np.int8)\n",
    "                elif c_min > np.iinfo(np.int16).min and c_max < np.iinfo(np.int16).max:\n",
    "                    df[col] = df[col].astype(np.int16)\n",
    "                elif c_min > np.iinfo(np.int32).min and c_max < np.iinfo(np.int32).max:\n",
    "                    df[col] = df[col].astype(np.int32)\n",
    "                elif c_min > np.iinfo(np.int64).min and c_max < np.iinfo(np.int64).max:\n",
    "                    df[col] = df[col].astype(np.int64)  \n",
    "            else:\n",
    "                if c_min > np.finfo(np.float16).min and c_max < np.finfo(np.float16).max:\n",
    "                    df[col] = df[col].astype(np.float16)\n",
    "                elif c_min > np.finfo(np.float32).min and c_max < np.finfo(np.float32).max:\n",
    "                    df[col] = df[col].astype(np.float32)\n",
    "                else:\n",
    "                    df[col] = df[col].astype(np.float64)\n",
    "        else:\n",
    "            df[col] = df[col].astype('category')\n",
    "\n",
    "    end_mem = df.memory_usage().sum() / 1024**2 \n",
    "    print('Memory usage after optimization is: {:.2f} MB'.format(end_mem))\n",
    "    print('Decreased by {:.1f}%'.format(100 * (start_mem - end_mem) / start_mem))\n",
    "    \n",
    "    return df"
   ]
  },
  {
   "cell_type": "code",
   "execution_count": 5,
   "metadata": {
    "ExecuteTime": {
     "end_time": "2021-03-15T00:54:18.244721Z",
     "start_time": "2021-03-15T00:53:59.807775Z"
    }
   },
   "outputs": [
    {
     "name": "stdout",
     "output_type": "stream",
     "text": [
      "Memory usage of dataframe is 157.93 MB\n",
      "Memory usage after optimization is: 39.67 MB\n",
      "Decreased by 74.9%\n",
      "Memory usage of dataframe is 31.43 MB\n",
      "Memory usage after optimization is: 7.90 MB\n",
      "Decreased by 74.9%\n"
     ]
    }
   ],
   "source": [
    "# 数据预处理\n",
    "train_list = []\n",
    "\n",
    "for items in train.values: #dataframe.values，把dataframe转换为numpy数组\n",
    "    #把第二列的值按照','分成列表，并且列表里的元素转换为浮点型，然后第一列和第三列，与第二列组成一个长列表。然后追加到train_list\n",
    "    train_list.append([items[0]] + [float(i) for i in items[1].split(',')] + [items[2]]) \n",
    "\n",
    "train = pd.DataFrame(np.array(train_list)) #把train_list转换成numpy数组，再转换成dataframe\n",
    "train.columns = ['id'] + ['s_'+str(i) for i in range(len(train_list[0])-2)] + ['label'] #修改列名\n",
    "train = reduce_mem_usage(train) #调用压缩函数\n",
    "\n",
    "#原理同上\n",
    "test_list=[]\n",
    "for items in test.values:\n",
    "    test_list.append([items[0]] + [float(i) for i in items[1].split(',')])\n",
    "\n",
    "test = pd.DataFrame(np.array(test_list))\n",
    "test.columns = ['id'] + ['s_'+str(i) for i in range(len(test_list[0])-1)]\n",
    "test = reduce_mem_usage(test)\n"
   ]
  },
  {
   "cell_type": "code",
   "execution_count": 35,
   "metadata": {
    "ExecuteTime": {
     "end_time": "2021-03-15T00:54:57.351196Z",
     "start_time": "2021-03-15T00:54:57.321310Z"
    }
   },
   "outputs": [],
   "source": [
    "#train.head()"
   ]
  },
  {
   "cell_type": "code",
   "execution_count": 36,
   "metadata": {
    "ExecuteTime": {
     "end_time": "2021-03-15T00:55:36.644040Z",
     "start_time": "2021-03-15T00:55:36.619678Z"
    }
   },
   "outputs": [],
   "source": [
    "# test.head()"
   ]
  },
  {
   "cell_type": "markdown",
   "metadata": {},
   "source": [
    "# 训练数据/测试数据准备"
   ]
  },
  {
   "cell_type": "code",
   "execution_count": 20,
   "metadata": {
    "ExecuteTime": {
     "end_time": "2021-03-15T00:56:15.971953Z",
     "start_time": "2021-03-15T00:56:15.876344Z"
    },
    "collapsed": true
   },
   "outputs": [],
   "source": [
    "x_train = train.drop(['id','label'], axis=1) #axis=1 表示丢弃的是列 ，必须有这个，不然代码报错\n",
    "y_train = train['label']\n",
    "x_test=test.drop(['id'], axis=1)"
   ]
  },
  {
   "cell_type": "code",
   "execution_count": 37,
   "metadata": {},
   "outputs": [],
   "source": [
    "# train.head()"
   ]
  },
  {
   "cell_type": "markdown",
   "metadata": {},
   "source": [
    "# 模型训练"
   ]
  },
  {
   "cell_type": "code",
   "execution_count": 16,
   "metadata": {
    "ExecuteTime": {
     "end_time": "2021-03-15T00:57:01.757175Z",
     "start_time": "2021-03-15T00:57:01.750341Z"
    },
    "collapsed": true
   },
   "outputs": [],
   "source": [
    "def abs_sum(y_pre,y_tru): #评价函数\n",
    "    y_pre=np.array(y_pre)\n",
    "    y_tru=np.array(y_tru)\n",
    "    loss=sum(sum(abs(y_pre-y_tru)))\n",
    "    return loss\n",
    "    "
   ]
  },
  {
   "cell_type": "code",
   "execution_count": 30,
   "metadata": {
    "ExecuteTime": {
     "end_time": "2021-03-15T00:57:42.940805Z",
     "start_time": "2021-03-15T00:57:42.928082Z"
    },
    "collapsed": true
   },
   "outputs": [],
   "source": [
    "def cv_model(clf, train_x, train_y, test_x, clf_name): #交叉验证\n",
    "    folds = 10 #k折交叉验证 。 5改成10，其他条件都不变的情况下，分数从559.6118提升到534.6480 ;k=10，使用的StratifiedKFold，其他不变，分数却变差了\n",
    "    \n",
    "    seed = 2021 #随机种子\n",
    "    kf = StratifiedKFold(n_splits=folds, shuffle=True, random_state=seed)  #StratifiedKFold是针对样本分类不均衡的K折法，比如欺诈电话分类\n",
    "    test = np.zeros((test_x.shape[0],4))\n",
    "\n",
    "    cv_scores = []\n",
    "    \n",
    "    #OneHotEncoder，心电图类别是名义变量，用哑变量的处理方式。\n",
    "    #初始化OneHotEncoder实例时，默认sparse参数为True，编码后返回的是一个稀疏矩阵的对象，\n",
    "    #如果要使用一般要调用toarray()方法转化成array对象。若将sparse参数设置为False，则直接生成array对象，可直接使用。\n",
    "    onehot_encoder = OneHotEncoder(sparse=False) \n",
    "    \n",
    "     #train_index , valid_index是一个列表，列表里是训练集的序列或者测试局的序列\n",
    "    for i, (train_index, valid_index) in enumerate(kf.split(train_x, train_y)):\n",
    "        print('************************************ {} ************************************'.format(str(i+1)))\n",
    "        \n",
    "        #分训练集和验证集，比train_test_split(x, y, test_size=0.333, random_state=0) 好很多 \n",
    "        trn_x, trn_y, val_x, val_y = train_x.iloc[train_index], train_y[train_index], train_x.iloc[valid_index], train_y[valid_index]\n",
    "        \n",
    "        if clf_name == \"lgb\":\n",
    "            train_matrix = clf.Dataset(trn_x, label=trn_y) #处理成lgb算法需要的数据格式，训练集\n",
    "            valid_matrix = clf.Dataset(val_x, label=val_y)#处理成lgb算法需要的数据格式，验证集\n",
    "\n",
    "            params = {                 #lgb参数\n",
    "                'boosting_type': 'gbdt',\n",
    "                'objective': 'multiclass',\n",
    "                'num_class': 4,\n",
    "                'num_leaves': 2 ** 5,\n",
    "                'feature_fraction': 0.8,\n",
    "                'bagging_fraction': 0.8,\n",
    "                'bagging_freq': 4,\n",
    "                'learning_rate': 0.1,\n",
    "                'seed': seed,\n",
    "                'nthread': 28,\n",
    "                'n_jobs':24,\n",
    "                'verbose': -1,\n",
    "            }\n",
    "\n",
    "            model = clf.train(params,    #训练模型\n",
    "                      train_set=train_matrix, \n",
    "                      valid_sets=valid_matrix, \n",
    "                      num_boost_round=2000, \n",
    "                      verbose_eval=100, \n",
    "                      early_stopping_rounds=200)\n",
    "            val_pred = model.predict(val_x, num_iteration=model.best_iteration) #预测，验证集预测\n",
    "            test_pred = model.predict(test_x, num_iteration=model.best_iteration) #预测，测试集预测\n",
    "            \n",
    "        val_y=np.array(val_y).reshape(-1, 1) #验证集的标签值，从series类型转换成ndarray类型，reshape(-1, 1)，把数组变为一列，n*1\n",
    "        val_y = onehot_encoder.fit_transform(val_y) #把验证集的标签值，改成哑编码格式\n",
    "        print('预测的概率矩阵为：')\n",
    "        print(test_pred)\n",
    "        test += test_pred\n",
    "        score=abs_sum(val_y, val_pred) # 每一折的 验证集的预测值与真实标签算出来的分数\n",
    "        cv_scores.append(score)#把分数写入cv_score\n",
    "        print(cv_scores)#打印分数\n",
    "    print(\"%s_scotrainre_list:\" % clf_name, cv_scores)\n",
    "    print(\"%s_score_mean:\" % clf_name, np.mean(cv_scores))\n",
    "    print(\"%s_score_std:\" % clf_name, np.std(cv_scores))\n",
    "    test=test/kf.n_splits\n",
    "\n",
    "    return test #对测试集的预测值"
   ]
  },
  {
   "cell_type": "code",
   "execution_count": 25,
   "metadata": {
    "ExecuteTime": {
     "end_time": "2021-03-15T00:58:22.378103Z",
     "start_time": "2021-03-15T00:58:22.373222Z"
    },
    "collapsed": true
   },
   "outputs": [],
   "source": [
    "def lgb_model(x_train, y_train, x_test):\n",
    "    lgb_test = cv_model(lgb, x_train, y_train, x_test, \"lgb\") #训练模型\n",
    "    return lgb_test"
   ]
  },
  {
   "cell_type": "code",
   "execution_count": 31,
   "metadata": {
    "ExecuteTime": {
     "start_time": "2021-03-15T00:53:32.384Z"
    },
    "collapsed": true
   },
   "outputs": [
    {
     "name": "stdout",
     "output_type": "stream",
     "text": [
      "************************************ 1 ************************************\n",
      "[LightGBM] [Warning] num_threads is set with nthread=28, will be overridden by n_jobs=24. Current value: num_threads=24\n",
      "Training until validation scores don't improve for 200 rounds\n",
      "[100]\tvalid_0's multi_logloss: 0.052514\n",
      "[200]\tvalid_0's multi_logloss: 0.0387442\n",
      "[300]\tvalid_0's multi_logloss: 0.0360959\n",
      "[400]\tvalid_0's multi_logloss: 0.0367654\n",
      "[500]\tvalid_0's multi_logloss: 0.0381283\n",
      "Early stopping, best iteration is:\n",
      "[324]\tvalid_0's multi_logloss: 0.0358704\n",
      "预测的概率矩阵为：\n",
      "[[9.99987167e-01 1.18712451e-05 1.98144017e-07 7.63742082e-07]\n",
      " [8.94060024e-06 4.05373475e-04 9.99585681e-01 4.48010105e-09]\n",
      " [6.80586216e-07 4.92127102e-08 1.68023344e-07 9.99999102e-01]\n",
      " ...\n",
      " [4.61991485e-03 1.94549335e-05 9.95360243e-01 3.87378343e-07]\n",
      " [9.99973622e-01 2.62969453e-05 5.79233235e-08 2.31103798e-08]\n",
      " [9.52202025e-01 1.27438478e-02 2.82481465e-02 6.80598064e-03]]\n",
      "[272.2493733683497]\n",
      "************************************ 2 ************************************\n",
      "[LightGBM] [Warning] num_threads is set with nthread=28, will be overridden by n_jobs=24. Current value: num_threads=24\n",
      "Training until validation scores don't improve for 200 rounds\n",
      "[100]\tvalid_0's multi_logloss: 0.0566698\n",
      "[200]\tvalid_0's multi_logloss: 0.0455415\n",
      "[300]\tvalid_0's multi_logloss: 0.0449508\n",
      "[400]\tvalid_0's multi_logloss: 0.0473606\n",
      "Early stopping, best iteration is:\n",
      "[236]\tvalid_0's multi_logloss: 0.0445502\n",
      "预测的概率矩阵为：\n",
      "[[9.99963431e-01 2.60599875e-05 6.33249269e-06 4.17625873e-06]\n",
      " [2.09658401e-04 1.94276724e-03 9.97847156e-01 4.18673321e-07]\n",
      " [1.70083313e-05 1.34994439e-06 1.18791715e-05 9.99969763e-01]\n",
      " ...\n",
      " [1.25363629e-02 1.27770827e-04 9.87326096e-01 9.77063519e-06]\n",
      " [9.99951013e-01 4.86279379e-05 2.19765015e-07 1.38972509e-07]\n",
      " [9.46421651e-01 8.47261803e-03 3.84673072e-02 6.63842339e-03]]\n",
      "[272.2493733683497, 352.2726129078004]\n",
      "************************************ 3 ************************************\n",
      "[LightGBM] [Warning] num_threads is set with nthread=28, will be overridden by n_jobs=24. Current value: num_threads=24\n",
      "Training until validation scores don't improve for 200 rounds\n",
      "[100]\tvalid_0's multi_logloss: 0.049034\n",
      "[200]\tvalid_0's multi_logloss: 0.0365868\n",
      "[300]\tvalid_0's multi_logloss: 0.0344429\n",
      "[400]\tvalid_0's multi_logloss: 0.03582\n",
      "Early stopping, best iteration is:\n",
      "[284]\tvalid_0's multi_logloss: 0.0343243\n",
      "预测的概率矩阵为：\n",
      "[[9.99961345e-01 3.35270724e-05 2.75120995e-06 2.37639137e-06]\n",
      " [9.45346681e-05 2.03686746e-03 9.97868590e-01 7.84385902e-09]\n",
      " [2.21069234e-06 7.15888169e-08 6.63760840e-07 9.99997054e-01]\n",
      " ...\n",
      " [5.57688521e-02 4.61999874e-04 9.43753494e-01 1.56537417e-05]\n",
      " [9.99934167e-01 6.57601998e-05 4.10984601e-08 3.19694982e-08]\n",
      " [9.60520633e-01 3.60589884e-03 2.62574120e-02 9.61605667e-03]]\n",
      "[272.2493733683497, 352.2726129078004, 276.4128321031457]\n",
      "************************************ 4 ************************************\n",
      "[LightGBM] [Warning] num_threads is set with nthread=28, will be overridden by n_jobs=24. Current value: num_threads=24\n",
      "Training until validation scores don't improve for 200 rounds\n",
      "[100]\tvalid_0's multi_logloss: 0.0530303\n",
      "[200]\tvalid_0's multi_logloss: 0.0393877\n",
      "[300]\tvalid_0's multi_logloss: 0.0371043\n",
      "[400]\tvalid_0's multi_logloss: 0.0378783\n",
      "[500]\tvalid_0's multi_logloss: 0.0391891\n",
      "Early stopping, best iteration is:\n",
      "[328]\tvalid_0's multi_logloss: 0.0369066\n",
      "预测的概率矩阵为：\n",
      "[[9.99994854e-01 4.55955475e-06 4.02439767e-07 1.83816511e-07]\n",
      " [2.55033645e-05 5.96454224e-04 9.99378041e-01 1.74576973e-09]\n",
      " [1.93435402e-06 6.79504662e-08 1.19777455e-06 9.99996800e-01]\n",
      " ...\n",
      " [9.86023433e-03 1.88829691e-04 9.89949601e-01 1.33512214e-06]\n",
      " [9.99988486e-01 1.14894666e-05 1.78905468e-08 6.90153816e-09]\n",
      " [9.72628355e-01 1.61035845e-02 7.24923356e-03 4.01882670e-03]]\n",
      "[272.2493733683497, 352.2726129078004, 276.4128321031457, 279.2833654813336]\n",
      "************************************ 5 ************************************\n",
      "[LightGBM] [Warning] num_threads is set with nthread=28, will be overridden by n_jobs=24. Current value: num_threads=24\n",
      "Training until validation scores don't improve for 200 rounds\n",
      "[100]\tvalid_0's multi_logloss: 0.0494434\n",
      "[200]\tvalid_0's multi_logloss: 0.0359854\n",
      "[300]\tvalid_0's multi_logloss: 0.0329065\n",
      "[400]\tvalid_0's multi_logloss: 0.0333061\n",
      "[500]\tvalid_0's multi_logloss: 0.0349266\n",
      "Early stopping, best iteration is:\n",
      "[324]\tvalid_0's multi_logloss: 0.0327904\n",
      "预测的概率矩阵为：\n",
      "[[9.99989913e-01 9.41544172e-06 1.59359216e-07 5.12004837e-07]\n",
      " [1.18528349e-05 3.56254230e-04 9.99631887e-01 6.43247595e-09]\n",
      " [1.20338610e-06 1.62260938e-08 2.95486851e-07 9.99998485e-01]\n",
      " ...\n",
      " [9.82725211e-03 6.18847148e-05 9.90109719e-01 1.14423889e-06]\n",
      " [9.99941394e-01 5.85310282e-05 3.48228447e-08 3.99996850e-08]\n",
      " [9.86720188e-01 1.31255972e-03 9.92676035e-03 2.04049159e-03]]\n",
      "[272.2493733683497, 352.2726129078004, 276.4128321031457, 279.2833654813336, 242.00338538277208]\n",
      "************************************ 6 ************************************\n",
      "[LightGBM] [Warning] num_threads is set with nthread=28, will be overridden by n_jobs=24. Current value: num_threads=24\n",
      "Training until validation scores don't improve for 200 rounds\n",
      "[100]\tvalid_0's multi_logloss: 0.0548065\n",
      "[200]\tvalid_0's multi_logloss: 0.0428398\n",
      "[300]\tvalid_0's multi_logloss: 0.0403824\n",
      "[400]\tvalid_0's multi_logloss: 0.040891\n",
      "[500]\tvalid_0's multi_logloss: 0.0424608\n",
      "Early stopping, best iteration is:\n",
      "[302]\tvalid_0's multi_logloss: 0.0403266\n",
      "预测的概率矩阵为：\n",
      "[[9.99979751e-01 1.91291227e-05 3.39425331e-07 7.80926064e-07]\n",
      " [1.28934665e-05 1.55769147e-04 9.99831335e-01 2.38725004e-09]\n",
      " [1.00150894e-06 7.36457769e-07 4.53725547e-07 9.99997808e-01]\n",
      " ...\n",
      " [2.30837003e-02 1.05367578e-04 9.76807788e-01 3.14415978e-06]\n",
      " [9.99971067e-01 2.88827829e-05 3.25246918e-08 1.79800293e-08]\n",
      " [9.13273116e-01 1.80522755e-02 5.46181351e-02 1.40564733e-02]]\n",
      "[272.2493733683497, 352.2726129078004, 276.4128321031457, 279.2833654813336, 242.00338538277208, 290.2688429894397]\n",
      "************************************ 7 ************************************\n",
      "[LightGBM] [Warning] num_threads is set with nthread=28, will be overridden by n_jobs=24. Current value: num_threads=24\n",
      "Training until validation scores don't improve for 200 rounds\n",
      "[100]\tvalid_0's multi_logloss: 0.0528116\n",
      "[200]\tvalid_0's multi_logloss: 0.0404151\n",
      "[300]\tvalid_0's multi_logloss: 0.0383165\n",
      "[400]\tvalid_0's multi_logloss: 0.0389178\n",
      "[500]\tvalid_0's multi_logloss: 0.0412603\n",
      "Early stopping, best iteration is:\n",
      "[327]\tvalid_0's multi_logloss: 0.0378587\n",
      "预测的概率矩阵为：\n",
      "[[9.99988122e-01 1.13008580e-05 8.51947375e-08 4.91998217e-07]\n",
      " [2.77247299e-05 2.46787413e-04 9.99725486e-01 1.41290274e-09]\n",
      " [3.69105200e-07 3.44441306e-08 2.85301188e-07 9.99999311e-01]\n",
      " ...\n",
      " [9.15998457e-03 1.94612611e-05 9.90819188e-01 1.36650877e-06]\n",
      " [9.99948521e-01 5.14502413e-05 1.82566196e-08 1.07908605e-08]\n",
      " [9.80698746e-01 1.99527887e-03 1.57875178e-02 1.51845761e-03]]\n",
      "[272.2493733683497, 352.2726129078004, 276.4128321031457, 279.2833654813336, 242.00338538277208, 290.2688429894397, 270.123458832031]\n",
      "************************************ 8 ************************************\n",
      "[LightGBM] [Warning] num_threads is set with nthread=28, will be overridden by n_jobs=24. Current value: num_threads=24\n",
      "Training until validation scores don't improve for 200 rounds\n",
      "[100]\tvalid_0's multi_logloss: 0.0522746\n",
      "[200]\tvalid_0's multi_logloss: 0.03897\n",
      "[300]\tvalid_0's multi_logloss: 0.0349236\n",
      "[400]\tvalid_0's multi_logloss: 0.0357443\n",
      "[500]\tvalid_0's multi_logloss: 0.0375501\n",
      "Early stopping, best iteration is:\n",
      "[344]\tvalid_0's multi_logloss: 0.034628\n",
      "预测的概率矩阵为：\n",
      "[[9.99992632e-01 6.68500624e-06 3.74495191e-07 3.08535014e-07]\n",
      " [1.76180582e-05 7.48870134e-04 9.99233505e-01 6.33562944e-09]\n",
      " [1.60673144e-06 9.63574658e-08 2.54751076e-07 9.99998042e-01]\n",
      " ...\n",
      " [8.77294930e-03 1.61605128e-05 9.91210736e-01 1.54210222e-07]\n",
      " [9.99996479e-01 3.51012156e-06 9.07643683e-09 2.06344419e-09]\n",
      " [9.52244078e-01 1.50656128e-02 2.54388208e-02 7.25148801e-03]]\n",
      "[272.2493733683497, 352.2726129078004, 276.4128321031457, 279.2833654813336, 242.00338538277208, 290.2688429894397, 270.123458832031, 278.8380866463057]\n",
      "************************************ 9 ************************************\n",
      "[LightGBM] [Warning] num_threads is set with nthread=28, will be overridden by n_jobs=24. Current value: num_threads=24\n"
     ]
    },
    {
     "name": "stdout",
     "output_type": "stream",
     "text": [
      "Training until validation scores don't improve for 200 rounds\n",
      "[100]\tvalid_0's multi_logloss: 0.0547402\n",
      "[200]\tvalid_0's multi_logloss: 0.0432049\n",
      "[300]\tvalid_0's multi_logloss: 0.0406137\n",
      "[400]\tvalid_0's multi_logloss: 0.0418444\n",
      "[500]\tvalid_0's multi_logloss: 0.0441254\n",
      "Early stopping, best iteration is:\n",
      "[306]\tvalid_0's multi_logloss: 0.0404444\n",
      "预测的概率矩阵为：\n",
      "[[9.99921967e-01 7.64941533e-05 7.84133187e-07 7.55029571e-07]\n",
      " [4.63706455e-05 2.17797237e-04 9.99735825e-01 6.87231477e-09]\n",
      " [1.09590026e-06 6.76044955e-08 3.64721097e-07 9.99998472e-01]\n",
      " ...\n",
      " [3.97555550e-02 1.73212754e-04 9.60068936e-01 2.29615536e-06]\n",
      " [9.99898882e-01 1.01001966e-04 8.85561798e-08 2.77126943e-08]\n",
      " [9.63079579e-01 8.38062070e-03 2.65071922e-02 2.03260801e-03]]\n",
      "[272.2493733683497, 352.2726129078004, 276.4128321031457, 279.2833654813336, 242.00338538277208, 290.2688429894397, 270.123458832031, 278.8380866463057, 297.85664276726374]\n",
      "************************************ 10 ************************************\n",
      "[LightGBM] [Warning] num_threads is set with nthread=28, will be overridden by n_jobs=24. Current value: num_threads=24\n",
      "Training until validation scores don't improve for 200 rounds\n",
      "[100]\tvalid_0's multi_logloss: 0.0489005\n",
      "[200]\tvalid_0's multi_logloss: 0.0379144\n",
      "[300]\tvalid_0's multi_logloss: 0.0363081\n",
      "[400]\tvalid_0's multi_logloss: 0.0372961\n",
      "Early stopping, best iteration is:\n",
      "[292]\tvalid_0's multi_logloss: 0.0360787\n",
      "预测的概率矩阵为：\n",
      "[[9.99988984e-01 1.02740209e-05 3.14550497e-07 4.27833699e-07]\n",
      " [8.03904965e-05 7.48295453e-04 9.99171289e-01 2.50973348e-08]\n",
      " [6.18198594e-06 2.06949536e-07 2.54977906e-06 9.99991061e-01]\n",
      " ...\n",
      " [3.20030583e-02 5.43225241e-04 9.67450523e-01 3.19389930e-06]\n",
      " [9.99967255e-01 3.23700377e-05 2.47019900e-07 1.28420449e-07]\n",
      " [9.58599501e-01 8.20631901e-03 3.19168905e-02 1.27728975e-03]]\n",
      "[272.2493733683497, 352.2726129078004, 276.4128321031457, 279.2833654813336, 242.00338538277208, 290.2688429894397, 270.123458832031, 278.8380866463057, 297.85664276726374, 254.6843242554669]\n",
      "lgb_scotrainre_list: [272.2493733683497, 352.2726129078004, 276.4128321031457, 279.2833654813336, 242.00338538277208, 290.2688429894397, 270.123458832031, 278.8380866463057, 297.85664276726374, 254.6843242554669]\n",
      "lgb_score_mean: 281.3992924733908\n",
      "lgb_score_std: 28.080304539147512\n"
     ]
    }
   ],
   "source": [
    "lgb_test = lgb_model(x_train, y_train, x_test) #测试集的预测值"
   ]
  },
  {
   "cell_type": "code",
   "execution_count": 38,
   "metadata": {
    "ExecuteTime": {
     "start_time": "2021-03-15T00:53:33.065Z"
    }
   },
   "outputs": [],
   "source": [
    "# lgb_test"
   ]
  },
  {
   "cell_type": "code",
   "execution_count": 39,
   "metadata": {
    "ExecuteTime": {
     "start_time": "2021-03-15T00:53:33.810Z"
    }
   },
   "outputs": [],
   "source": [
    "temp=pd.DataFrame(lgb_test)\n",
    "\n",
    "result=pd.read_csv('sample_submit.csv')\n",
    "result['label_0']=temp[0]\n",
    "result['label_1']=temp[1]\n",
    "result['label_2']=temp[2]\n",
    "result['label_3']=temp[3]\n",
    "result.to_csv('submit.csv',index=False)"
   ]
  }
 ],
 "metadata": {
  "kernelspec": {
   "display_name": "Python 3",
   "language": "python",
   "name": "python3"
  },
  "language_info": {
   "codemirror_mode": {
    "name": "ipython",
    "version": 3
   },
   "file_extension": ".py",
   "mimetype": "text/x-python",
   "name": "python",
   "nbconvert_exporter": "python",
   "pygments_lexer": "ipython3",
   "version": "3.6.3"
  },
  "toc": {
   "base_numbering": 1,
   "nav_menu": {},
   "number_sections": true,
   "sideBar": true,
   "skip_h1_title": false,
   "title_cell": "Table of Contents",
   "title_sidebar": "Contents",
   "toc_cell": false,
   "toc_position": {},
   "toc_section_display": true,
   "toc_window_display": true
  },
  "varInspector": {
   "cols": {
    "lenName": 16,
    "lenType": 16,
    "lenVar": 40
   },
   "kernels_config": {
    "python": {
     "delete_cmd_postfix": "",
     "delete_cmd_prefix": "del ",
     "library": "var_list.py",
     "varRefreshCmd": "print(var_dic_list())"
    },
    "r": {
     "delete_cmd_postfix": ") ",
     "delete_cmd_prefix": "rm(",
     "library": "var_list.r",
     "varRefreshCmd": "cat(var_dic_list()) "
    }
   },
   "types_to_exclude": [
    "module",
    "function",
    "builtin_function_or_method",
    "instance",
    "_Feature"
   ],
   "window_display": false
  }
 },
 "nbformat": 4,
 "nbformat_minor": 4
}
